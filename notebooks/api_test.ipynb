{
 "cells": [
  {
   "cell_type": "code",
   "execution_count": 1,
   "metadata": {},
   "outputs": [],
   "source": [
    "import pandas as pd"
   ]
  },
  {
   "cell_type": "code",
   "execution_count": 2,
   "metadata": {},
   "outputs": [],
   "source": [
    "project_path = \"/Users/anthonigleeson/work/llm-projects/hackathon\"\n",
    "data = \"/data/sample_transcript.csv\"\n",
    "API_KEY = \"\"\n",
    "URL = \"\"\n",
    "ANTH_API_KEY=\"\"\n"
   ]
  },
  {
   "cell_type": "code",
   "execution_count": null,
   "metadata": {},
   "outputs": [],
   "source": []
  },
  {
   "cell_type": "code",
   "execution_count": 3,
   "metadata": {},
   "outputs": [
    {
     "data": {
      "text/plain": [
       "<bound method NDFrame.head of     No      Time                 Speaker  \\\n",
       "0    1  12:01:00       Chairman Wormsley   \n",
       "1    2  12:01:53       Chairman Wormsley   \n",
       "2    3  12:01:59      Commissioner Brown   \n",
       "3    4  12:02:04      Commissioner Hobbs   \n",
       "4    5  12:04:56       Chairman Wormsley   \n",
       "5    6  12:05:46  Commissioner McCroskey   \n",
       "6    7  12:09:36       Chairman Wormsley   \n",
       "7    8  12:10:10       Chairman Wormsley   \n",
       "8    9  12:12:19     Commissioner Adkins   \n",
       "9   10  12:12:31   Commissioner Carmical   \n",
       "10  11  12:13:16       Chairman Wormsley   \n",
       "11  12  12:15:07       Chairman Wormsley   \n",
       "12  13  12:15:26      Commissioner McKee   \n",
       "13  14  12:17:14       Chairman Wormsley   \n",
       "14  15  12:19:45    Commissioner Rodgers   \n",
       "15  16  12:19:57       Chairman Wormsley   \n",
       "16  17  12:20:21    Commissioner Duckett   \n",
       "17  18  12:22:18       Chairman Wormsley   \n",
       "18  19  12:22:46   Commissioner Reinhart   \n",
       "\n",
       "                                                 Text  \n",
       "0    This meeting of the CTAS County Commission wi...  \n",
       "1    Each of you has received the agenda. I will e...  \n",
       "2                                           So moved.  \n",
       "3                                            Seconded  \n",
       "4    It has been moved and seconded that the agend...  \n",
       "5    Mister Chairman, my name has been omitted fro...  \n",
       "6    Thank you. If there are no objections, the mi...  \n",
       "7    Commissioner Adkins, the first item on the ag...  \n",
       "8    Mister Chairman, I would like to make a motio...  \n",
       "9                                I second the motion.  \n",
       "10   This resolution has a motion and second. Will...  \n",
       "11   The resolution passes. We will now take up ol...  \n",
       "12                    I move to withdraw that motion.  \n",
       "13   Commissioner McKee has moved to withdraw his ...  \n",
       "14   I move adopton of the resolution previously p...  \n",
       "15                               Commissioner Duckett  \n",
       "16           The sheriff is opposed to this increase.  \n",
       "17   Commissioner, you are out of order because th...  \n",
       "18   For purposes of discussion, I second the motion.  >"
      ]
     },
     "execution_count": 3,
     "metadata": {},
     "output_type": "execute_result"
    }
   ],
   "source": [
    "df = pd.read_csv(project_path+data)\n",
    "\n",
    "df.head\n",
    "\n",
    "#https://aws-samples.github.io/bedrock-claude-chat/#tag/published_api/operation/post_message_conversation_post"
   ]
  },
  {
   "cell_type": "code",
   "execution_count": 5,
   "metadata": {},
   "outputs": [
    {
     "name": "stdout",
     "output_type": "stream",
     "text": [
      "Style: style1, Transcript:12:01:00, Chairman Wormsley, This meeting of the CTAS County Commission will come to order. Clerk please call the role. (Ensure that a majority of the members are present.)\n",
      " 12:01:53, Chairman Wormsley, Each of you has received the agenda. I will entertain a motion that the agenda be approved.\n",
      " 12:01:59, Commissioner Brown, So moved.\n",
      " 12:02:04, Commissioner Hobbs, Seconded\n",
      " 12:04:56, Chairman Wormsley, It has been moved and seconded that the agenda be approved as received by the members. All those in favor signify by saying \"Aye\"?...Opposed by saying \"No\"?...The agenda is approved. You have received a copy of the minutes of the last meeting. Are there any corrections or additions to the meeting?\n",
      " 12:05:46, Commissioner McCroskey, Mister Chairman, my name has been omitted from the Special Committee on Indigent Care.\n",
      " 12:09:36, Chairman Wormsley, Thank you. If there are no objections, the minutes will be corrected to include the name of Commissioner McCroskey. Will the clerk please make this correction. Any further corrections? Seeing none, without objection the minutes will stand approved as read. (This is sort of a short cut way that is commonly used for approval of minutes and/or the agenda rather than requiring a motion and second.)\n",
      " 12:10:10, Chairman Wormsley, Commissioner Adkins, the first item on the agenda is yours.\n",
      " 12:12:19, Commissioner Adkins, Mister Chairman, I would like to make a motion to approve the resolution taking money from the Data Processing Reserve Account in the County Clerk's office and moving it to the equipment line to purchase a laptop computer.\n",
      " 12:12:31, Commissioner Carmical, I second the motion.\n",
      " 12:13:16, Chairman Wormsley, This resolution has a motion and second. Will the clerk please take the vote.\n",
      " 12:15:07, Chairman Wormsley, The resolution passes. We will now take up old business. At our last meeting, Commissioner McKee, your motion to sell property near the airport was deferred to this meeting. You are recognized.\n",
      " 12:15:26, Commissioner McKee, I move to withdraw that motion.\n",
      " 12:17:14, Chairman Wormsley, Commissioner McKee has moved to withdraw his motion to sell property near the airport. Seeing no objection, this motion is withdrawn. The next item on the agenda is Commissioner Rodgers'.\n",
      " 12:19:45, Commissioner Rodgers, I move adopton of the resolution previously provided to each of you to increase the state match local litigation tax in circuit, chancery, and criminal courts to the maximum amounts permissible. This resolution calls for the increases to go to the general fund.\n",
      " 12:19:57, Chairman Wormsley, Commissioner Duckett\n",
      " 12:20:21, Commissioner Duckett, The sheriff is opposed to this increase.\n",
      " 12:22:18, Chairman Wormsley, Commissioner, you are out of order because this motion has not been seconded as needed before the floor is open for discussion or debate. Discussion will begin after we have a second. Is there a second?\n",
      " 12:22:46, Commissioner Reinhart, For purposes of discussion, I second the motion.\n"
     ]
    }
   ],
   "source": [
    "df[\"transcript\"] = df.apply(\n",
    "    lambda row: \", \".join(\n",
    "        [str(row[col]).strip() for col in [\"Time\", \"Speaker\", \"Text\"]]\n",
    "    ),\n",
    "    axis=1,\n",
    ")\n",
    "\n",
    "formatted = '\\n '.join(df[\"transcript\"])\n",
    "\n",
    "formatted = \"Style: style1, Transcript:\" + formatted\n",
    "\n",
    "print(formatted)"
   ]
  },
  {
   "cell_type": "code",
   "execution_count": 9,
   "metadata": {},
   "outputs": [
    {
     "name": "stdout",
     "output_type": "stream",
     "text": [
      "{'conversationId': '01HVNZN508A07X5HY5P8SNDJP4', 'messageId': '01HVNZN508VZFRR93C9KK2DMWM'}\n"
     ]
    }
   ],
   "source": [
    "import requests\n",
    "import json\n",
    "import base64\n",
    "\n",
    "\n",
    "post_data = {\n",
    "    \"message\": { \n",
    "        \"content\": [\n",
    "        {\n",
    "            \"contentType\": \"text\",\n",
    "            \"mediaType\": \"string\",\n",
    "            \"body\": formatted\n",
    "        }\n",
    "        ],\n",
    "        \"model\": \"claude-v3-sonnet\"\n",
    "    }\n",
    "    }\n",
    "\n",
    "headers = {\n",
    "    \"Content-Type\": \"application/json\",\n",
    "    \"X-API-Key\": f\"{API_KEY}\",\n",
    "    }\n",
    "response = requests.post(URL+ \"/conversation\", json=post_data, headers=headers)\n",
    "print(response.json())\n",
    "json_respn =  response.json()\n",
    "\n",
    "\n",
    "headers = {\n",
    "    \"Content-Type\": \"application/json\",\n",
    "    \"X-API-Key\": f\"{API_KEY}\",\n",
    "    }\n"
   ]
  },
  {
   "cell_type": "code",
   "execution_count": 8,
   "metadata": {},
   "outputs": [
    {
     "data": {
      "text/plain": [
       "{'errors': ['No conversation found with id: 01HVNYPEG0QS5Z2RGPYPC583TX']}"
      ]
     },
     "execution_count": 8,
     "metadata": {},
     "output_type": "execute_result"
    }
   ],
   "source": [
    "get_url = URL + \"/conversation/\" + json_respn[\"conversationId\"]\n",
    "get = requests.get(\n",
    "    get_url, \n",
    "    headers=headers,\n",
    ")\n",
    "\n",
    "responsed = get.json()\n",
    "responsed"
   ]
  }
 ],
 "metadata": {
  "kernelspec": {
   "display_name": "Python (recruitmentcopilot)",
   "language": "python",
   "name": "recruitmentcopilot"
  },
  "language_info": {
   "codemirror_mode": {
    "name": "ipython",
    "version": 3
   },
   "file_extension": ".py",
   "mimetype": "text/x-python",
   "name": "python",
   "nbconvert_exporter": "python",
   "pygments_lexer": "ipython3",
   "version": "3.10.13"
  }
 },
 "nbformat": 4,
 "nbformat_minor": 2
}
