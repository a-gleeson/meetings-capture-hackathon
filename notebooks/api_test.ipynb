{
 "cells": [
  {
   "cell_type": "code",
   "execution_count": 49,
   "metadata": {},
   "outputs": [],
   "source": [
    "import pandas as pd"
   ]
  },
  {
   "cell_type": "code",
   "execution_count": 50,
   "metadata": {},
   "outputs": [],
   "source": [
    "project_path = \"xxx/hackathon\"\n",
    "data = \"/data/sample_transcript.csv\"\n",
    "API_KEY = \"\"\n",
    "URL = \"https://ohmj75cvw7.execute-api.us-east-1.amazonaws.com/api\""
   ]
  },
  {
   "cell_type": "code",
   "execution_count": 51,
   "metadata": {},
   "outputs": [
    {
     "data": {
      "text/plain": [
       "<bound method NDFrame.head of    No      Time             Speaker  \\\n",
       "0   1  12:01:00   Chairman Wormsley   \n",
       "1   2  12:01:53   Chairman Wormsley   \n",
       "2   3  12:01:59  Commissioner Brown   \n",
       "3   4  12:02:04  Commissioner Hobbs   \n",
       "\n",
       "                                                Text  \n",
       "0   This meeting of the CTAS County Commission wi...  \n",
       "1   Each of you has received the agenda. I will e...  \n",
       "2                                          So moved.  \n",
       "3                                           Seconded  >"
      ]
     },
     "execution_count": 51,
     "metadata": {},
     "output_type": "execute_result"
    }
   ],
   "source": [
    "df = pd.read_csv(project_path+data)\n",
    "\n",
    "df.head\n",
    "\n",
    "#https://aws-samples.github.io/bedrock-claude-chat/#tag/published_api/operation/post_message_conversation_post"
   ]
  },
  {
   "cell_type": "code",
   "execution_count": 53,
   "metadata": {},
   "outputs": [],
   "source": [
    "df[\"transcript\"] = df.apply(\n",
    "    lambda row: \", \".join(\n",
    "        [str(row[col]).strip() for col in [\"Time\", \"Speaker\", \"Text\"]]\n",
    "    ),\n",
    "    axis=1,\n",
    ")\n",
    "\n",
    "formatted = '\\n '.join(df[\"transcript\"])\n",
    "\n",
    "formatted = \"Style: style1, Transcript:\" + formatted"
   ]
  },
  {
   "cell_type": "code",
   "execution_count": 54,
   "metadata": {},
   "outputs": [
    {
     "name": "stdout",
     "output_type": "stream",
     "text": [
      "{'conversationId': '01HVKSZ611699EWABYPXR29G83', 'messageId': '01HVKSZ611MFQ4HFDYCTNN0XQQ'}\n",
      "https://ohmj75cvw7.execute-api.us-east-1.amazonaws.com/api/conversation/01HVKSZ611699EWABYPXR29G83\n"
     ]
    },
    {
     "data": {
      "text/plain": [
       "<Response [404]>"
      ]
     },
     "execution_count": 54,
     "metadata": {},
     "output_type": "execute_result"
    }
   ],
   "source": [
    "import requests\n",
    "import json\n",
    "import base64\n",
    "\n",
    "\n",
    "data = {\n",
    "    \"message\": {\n",
    "        \"content\": [\n",
    "        {\n",
    "            \"contentType\": \"text\",\n",
    "            \"body\": formatted\n",
    "        }\n",
    "        ],\n",
    "        \"model\": \"claude-v3-haiku\"\n",
    "    }\n",
    "    }\n",
    "\n",
    "headers = {\n",
    "    \"Content-Type\": \"application/json\",\n",
    "    \"X-API-Key\": f\"{API_KEY}\",\n",
    "    }\n",
    "response = requests.post(URL+ \"/conversation\", json=data, headers=headers,auth=None)\n",
    "print(response.json())\n",
    "json_respn =  response.json()\n",
    "\n",
    "\n",
    "headers = {\n",
    "    \"Content-Type\": \"application/json\",\n",
    "    \"X-API-Key\": f\"{API_KEY}\",\n",
    "    }\n",
    "\n",
    "get_url = URL + \"/conversation/\" + json_respn['conversationId'] \n",
    "print(get_url) \n",
    "requests.get(\n",
    "    get_url, \n",
    "    headers=headers,\n",
    ")"
   ]
  }
 ],
 "metadata": {
  "kernelspec": {
   "display_name": "Python (recruitmentcopilot)",
   "language": "python",
   "name": "recruitmentcopilot"
  },
  "language_info": {
   "codemirror_mode": {
    "name": "ipython",
    "version": 3
   },
   "file_extension": ".py",
   "mimetype": "text/x-python",
   "name": "python",
   "nbconvert_exporter": "python",
   "pygments_lexer": "ipython3",
   "version": "3.10.13"
  }
 },
 "nbformat": 4,
 "nbformat_minor": 2
}
