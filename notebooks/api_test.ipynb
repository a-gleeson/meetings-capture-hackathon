{
 "cells": [
  {
   "cell_type": "code",
   "execution_count": 55,
   "metadata": {},
   "outputs": [],
   "source": [
    "import pandas as pd"
   ]
  },
  {
   "cell_type": "code",
   "execution_count": 75,
   "metadata": {},
   "outputs": [],
   "source": [
    "project_path = \"\"\n",
    "data = \"/data/sample_transcript.csv\"\n",
    "API_KEY = \"\"\n",
    "URL = \"\""
   ]
  },
  {
   "cell_type": "code",
   "execution_count": 76,
   "metadata": {},
   "outputs": [
    {
     "data": {
      "text/plain": [
       "<bound method NDFrame.head of    No      Time             Speaker  \\\n",
       "0   1  12:01:00   Chairman Wormsley   \n",
       "1   2  12:01:53   Chairman Wormsley   \n",
       "2   3  12:01:59  Commissioner Brown   \n",
       "3   4  12:02:04  Commissioner Hobbs   \n",
       "\n",
       "                                                Text  \n",
       "0   This meeting of the CTAS County Commission wi...  \n",
       "1   Each of you has received the agenda. I will e...  \n",
       "2                                          So moved.  \n",
       "3                                           Seconded  >"
      ]
     },
     "execution_count": 76,
     "metadata": {},
     "output_type": "execute_result"
    }
   ],
   "source": [
    "df = pd.read_csv(project_path+data)\n",
    "\n",
    "df.head\n",
    "\n",
    "#https://aws-samples.github.io/bedrock-claude-chat/#tag/published_api/operation/post_message_conversation_post"
   ]
  },
  {
   "cell_type": "code",
   "execution_count": 77,
   "metadata": {},
   "outputs": [
    {
     "name": "stdout",
     "output_type": "stream",
     "text": [
      "Style: style1, Transcript:12:01:00, Chairman Wormsley, This meeting of the CTAS County Commission will come to order. Clerk please call the role. (Ensure that a majority of the members are present.)\n",
      " 12:01:53, Chairman Wormsley, Each of you has received the agenda. I will entertain a motion that the agenda be approved.\n",
      " 12:01:59, Commissioner Brown, So moved.\n",
      " 12:02:04, Commissioner Hobbs, Seconded\n"
     ]
    }
   ],
   "source": [
    "df[\"transcript\"] = df.apply(\n",
    "    lambda row: \", \".join(\n",
    "        [str(row[col]).strip() for col in [\"Time\", \"Speaker\", \"Text\"]]\n",
    "    ),\n",
    "    axis=1,\n",
    ")\n",
    "\n",
    "formatted = '\\n '.join(df[\"transcript\"])\n",
    "\n",
    "formatted = \"Style: style1, Transcript:\" + formatted\n",
    "\n",
    "print(formatted)"
   ]
  },
  {
   "cell_type": "code",
   "execution_count": 81,
   "metadata": {},
   "outputs": [
    {
     "name": "stdout",
     "output_type": "stream",
     "text": [
      "{'conversationId': '01HVKVTPSXW4XF1808XEP1FXHT', 'messageId': '01HVKVTPSXC01CNC6DZDVYC7KD'}\n"
     ]
    }
   ],
   "source": [
    "import requests\n",
    "import json\n",
    "import base64\n",
    "\n",
    "\n",
    "data = {\n",
    "    \"message\": {\n",
    "        \n",
    "        \"content\": [\n",
    "        {\n",
    "            \"contentType\": \"text\",\n",
    "            \"mediaType\": \"string\",\n",
    "            \"body\": \"what do I do with AI?\"\n",
    "        }\n",
    "        ],\n",
    "        \"model\": \"claude-v3-haiku\"\n",
    "    }\n",
    "    }\n",
    "\n",
    "headers = {\n",
    "    \"Content-Type\": \"application/json\",\n",
    "    \"X-API-Key\": f\"{API_KEY}\",\n",
    "    }\n",
    "response = requests.post(URL+ \"/conversation\", json=data, headers=headers)\n",
    "print(response.json())\n",
    "json_respn =  response.json()\n",
    "\n",
    "\n",
    "headers = {\n",
    "    \"Content-Type\": \"application/json\",\n",
    "    \"X-API-Key\": f\"{API_KEY}\",\n",
    "    }\n",
    "\n",
    "get_url = URL + \"/conversation/\" + json_respn['conversationId'] \n",
    "get = requests.get(\n",
    "    get_url, \n",
    "    headers=headers,\n",
    ")\n",
    "\n",
    "responsed = get.json()"
   ]
  },
  {
   "cell_type": "code",
   "execution_count": 84,
   "metadata": {},
   "outputs": [
    {
     "data": {
      "text/plain": [
       "{'errors': ['No conversation found with id: 01HVKVTPSXW4XF1808XEP1FXHT']}"
      ]
     },
     "execution_count": 84,
     "metadata": {},
     "output_type": "execute_result"
    }
   ],
   "source": [
    "responsed"
   ]
  }
 ],
 "metadata": {
  "kernelspec": {
   "display_name": "Python (recruitmentcopilot)",
   "language": "python",
   "name": "recruitmentcopilot"
  },
  "language_info": {
   "codemirror_mode": {
    "name": "ipython",
    "version": 3
   },
   "file_extension": ".py",
   "mimetype": "text/x-python",
   "name": "python",
   "nbconvert_exporter": "python",
   "pygments_lexer": "ipython3",
   "version": "3.10.13"
  }
 },
 "nbformat": 4,
 "nbformat_minor": 2
}
